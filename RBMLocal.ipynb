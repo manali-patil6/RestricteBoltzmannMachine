{
 "cells": [
  {
   "cell_type": "code",
   "execution_count": 164,
   "metadata": {},
   "outputs": [],
   "source": [
    "import numpy as np\n",
    "import torch\n",
    "\n",
    "\n",
    "def convert(data, nb_users, nb_movies):\n",
    "    new_data = []\n",
    "    for id_users in range(1, nb_users + 1):\n",
    "        id_movies = data[:, 1][data[:, 0] == id_users]\n",
    "        id_ratings = data[:, 2][data[:, 0] == id_users]\n",
    "        ratings = np.zeros(nb_movies)\n",
    "        ratings[id_movies - 1] = id_ratings\n",
    "        new_data.append(list(ratings))\n",
    "    return new_data\n",
    "\n",
    "\n",
    "def trainer(nb_epoch, nb_users, batch_size, training_set, rbm):\n",
    "    \n",
    "    for epoch in range(1, nb_epoch + 1):\n",
    "        train_loss = 0\n",
    "        s = 0.\n",
    "        for id_user in range(0, nb_users - batch_size, batch_size):\n",
    "            vk = training_set[id_user: id_user + batch_size]\n",
    "            v0 = training_set[id_user: id_user + batch_size]\n",
    "            ph0, _ = rbm.sample_h(v0)\n",
    "            for k in range(10):\n",
    "                _, hk = rbm.sample_h(vk)\n",
    "                _, vk = rbm.sample_v(hk)\n",
    "                vk[v0 < 0] = v0[v0 < 0]\n",
    "            phk, _ = rbm.sample_h(vk)\n",
    "            rbm.train(v0, vk, ph0, phk)\n",
    "            train_loss += torch.mean(torch.abs(v0[v0 >= 0] - vk[v0 >= 0]))\n",
    "            s += 1\n",
    "            \n",
    "        print('epoch: ' + str(epoch) + ' loss: ' + str(train_loss / s))\n",
    "\n",
    "\n",
    "def tester(nb_users, test_set, training_set, rbm):\n",
    "    test_loss = 0\n",
    "    s = 0.\n",
    "    for id_user in range(nb_users):\n",
    "        v = training_set[id_user:id_user + 1]\n",
    "        vt = test_set[id_user:id_user + 1]\n",
    "        if len(vt[vt >= 0]) > 0:\n",
    "            _, h = rbm.sample_h(v)\n",
    "            _, v = rbm.sample_v(h)\n",
    "            test_loss += torch.mean(torch.abs(vt[vt >= 0] - v[vt >= 0]))\n",
    "            s += 1.\n",
    "            acc = (1-(test_loss.item() / s))*100\n",
    "    print('Accuracy: {}'.format(str(acc)[:5]))\n",
    "    return acc"
   ]
  },
  {
   "cell_type": "code",
   "execution_count": 165,
   "metadata": {},
   "outputs": [],
   "source": [
    "import torch\n",
    "import torch.nn.parallel\n",
    "import torch.utils.data\n",
    "\n",
    "\n",
    "class RBM():\n",
    "    def __init__(self, nv, nh):\n",
    "        self.W = torch.randn(nh, nv)\n",
    "        self.a = torch.randn(1, nh)\n",
    "        self.b = torch.randn(1, nv)\n",
    "\n",
    "    def sample_h(self, x):\n",
    "        wx = torch.mm(x, self.W.t())\n",
    "        activation = wx + self.a.expand_as(wx)\n",
    "        p_h_given_v = torch.sigmoid(activation)\n",
    "        return p_h_given_v, torch.bernoulli(p_h_given_v)\n",
    "\n",
    "    def sample_v(self, y):\n",
    "        wy = torch.mm(y, self.W)\n",
    "        activation = wy + self.b.expand_as(wy)\n",
    "        p_v_given_h = torch.sigmoid(activation)\n",
    "        return p_v_given_h, torch.bernoulli(p_v_given_h)\n",
    "\n",
    "    def train(self, v0, vk, ph0, phk):\n",
    "        self.W += (torch.mm(v0.t(), ph0) - torch.mm(vk.t(), phk)).t()\n",
    "        self.b += torch.sum((v0 - vk), 0)\n",
    "        self.a += torch.sum((ph0 - phk), 0)"
   ]
  },
  {
   "cell_type": "code",
   "execution_count": 193,
   "metadata": {},
   "outputs": [],
   "source": [
    "import numpy as np\n",
    "import pandas as pd\n",
    "import torch\n",
    "import torch.utils.data\n",
    "\n",
    "\n",
    "# Importing Data\n",
    "movies = pd.read_csv('ml-1m/movies.dat', sep='::', header=None, engine='python', encoding='latin-1')\n",
    "users = pd.read_csv('ml-1m/users.dat', sep='::', header=None, engine='python', encoding='latin-1')\n",
    "ratings = pd.read_csv('ml-1m/ratings.dat', sep='::', header=None, engine='python', encoding='latin-1')\n",
    "\n",
    "# Data Manipulation\n",
    "\n",
    "training_set = pd.read_csv('ml-100k/u5.base', delimiter='\\t')\n",
    "training_set = np.array(training_set, dtype='int')\n",
    "test_set = pd.read_csv('ml-100k/u5.test', delimiter='\\t')\n",
    "test_set = np.array(test_set, dtype='int')\n",
    "\n",
    "# Getting number of users and movies\n",
    "\n",
    "nb_users = int(max(max(training_set[:, 0], ), max(test_set[:, 0])))\n",
    "nb_movies = int(max(max(training_set[:, 1], ), max(test_set[:, 1])))\n",
    "\n",
    "# Restructuring data\n",
    "training_set = convert(training_set, nb_users, nb_movies)\n",
    "test_set = convert(test_set, nb_users, nb_movies)\n",
    "\n",
    "# Initializing Torch tensors\n",
    "\n",
    "training_set = torch.FloatTensor(training_set)\n",
    "test_set = torch.FloatTensor(test_set)\n",
    "\n",
    "# Converting to binary ranking\n",
    "\n",
    "training_set[training_set == 0] = -1\n",
    "training_set[training_set == 1] = 0\n",
    "training_set[training_set == 2] = 0\n",
    "training_set[training_set >= 3] = 1\n",
    "test_set[test_set == 0] = -1\n",
    "test_set[test_set == 1] = 0\n",
    "test_set[test_set == 2] = 0\n",
    "test_set[test_set >= 3] = 1\n",
    "\n",
    "# Creating the RBM from previously made structure\n",
    "\n",
    "nv = len(training_set[0])\n",
    "nh = 100\n",
    "batch_size = 200\n",
    "rbm = RBM(nv, nh)\n"
   ]
  },
  {
   "cell_type": "code",
   "execution_count": 194,
   "metadata": {},
   "outputs": [
    {
     "name": "stdout",
     "output_type": "stream",
     "text": [
      "epoch: 1 loss: tensor(0.4116)\n",
      "epoch: 2 loss: tensor(0.2410)\n",
      "epoch: 3 loss: tensor(0.2537)\n",
      "epoch: 4 loss: tensor(0.2547)\n",
      "epoch: 5 loss: tensor(0.2473)\n",
      "epoch: 6 loss: tensor(0.2483)\n",
      "epoch: 7 loss: tensor(0.2540)\n",
      "epoch: 8 loss: tensor(0.2502)\n",
      "epoch: 9 loss: tensor(0.2490)\n",
      "epoch: 10 loss: tensor(0.2529)\n"
     ]
    }
   ],
   "source": [
    "# Training the RBM\n",
    "\n",
    "nb_epoch = 10\n",
    "trainer(nb_epoch, nb_users, batch_size, training_set, rbm)\n"
   ]
  },
  {
   "cell_type": "code",
   "execution_count": 195,
   "metadata": {},
   "outputs": [
    {
     "name": "stdout",
     "output_type": "stream",
     "text": [
      "Accuracy: 78.87\n"
     ]
    },
    {
     "data": {
      "text/plain": [
       "78.8796104916734"
      ]
     },
     "execution_count": 195,
     "metadata": {},
     "output_type": "execute_result"
    }
   ],
   "source": [
    "tester(nb_users, test_set, training_set, rbm)"
   ]
  },
  {
   "cell_type": "code",
   "execution_count": null,
   "metadata": {},
   "outputs": [],
   "source": []
  }
 ],
 "metadata": {
  "kernelspec": {
   "display_name": "Python 3",
   "language": "python",
   "name": "python3"
  },
  "language_info": {
   "codemirror_mode": {
    "name": "ipython",
    "version": 3
   },
   "file_extension": ".py",
   "mimetype": "text/x-python",
   "name": "python",
   "nbconvert_exporter": "python",
   "pygments_lexer": "ipython3",
   "version": "3.6.9"
  }
 },
 "nbformat": 4,
 "nbformat_minor": 4
}
